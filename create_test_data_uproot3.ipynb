{
 "cells": [
  {
   "cell_type": "code",
   "execution_count": 1,
   "id": "harmful-amino",
   "metadata": {},
   "outputs": [],
   "source": [
    "import uproot3\n",
    "import numpy as np"
   ]
  },
  {
   "cell_type": "code",
   "execution_count": 2,
   "id": "armed-flesh",
   "metadata": {},
   "outputs": [],
   "source": [
    "np.random.seed(200)"
   ]
  },
  {
   "cell_type": "code",
   "execution_count": 3,
   "id": "roman-flooring",
   "metadata": {},
   "outputs": [
    {
     "data": {
      "text/plain": [
       "190.73486328125"
      ]
     },
     "execution_count": 3,
     "metadata": {},
     "output_type": "execute_result"
    }
   ],
   "source": [
    "5e6*64/8/1024**2*5"
   ]
  },
  {
   "cell_type": "code",
   "execution_count": 4,
   "id": "swiss-priest",
   "metadata": {},
   "outputs": [],
   "source": [
    "num_elements = 5_000_000\n",
    "for file_label in range(20):\n",
    "    offset= file_label * num_elements/1000\n",
    "    with uproot3.recreate(f\"data{file_label:02d}.root\") as f:\n",
    "\n",
    "        f[\"data\"] = uproot3.newtree(\n",
    "            {\n",
    "                \"seriesNumber\": \"int64\",\n",
    "                \"eventNumber\": \"int64\",\n",
    "                \"detNumber\": \"int8\",\n",
    "                \"value1\": \"float64\",\n",
    "                \"value2\": \"float64\",\n",
    "            }\n",
    "        )\n",
    "        f[\"data\"].extend(\n",
    "            {\n",
    "                \"seriesNumber\": np.repeat(offset + np.arange(num_elements / 1000), 1000),\n",
    "                \"eventNumber\": np.repeat(offset + np.arange(num_elements / 10000), 10000),\n",
    "                \"detNumber\": np.random.randint(1, 5, size=num_elements),\n",
    "                \"value1\": np.random.normal(size=num_elements),\n",
    "                \"value2\": np.random.normal(size=num_elements),\n",
    "            }\n",
    "        )"
   ]
  },
  {
   "cell_type": "code",
   "execution_count": 5,
   "id": "abstract-service",
   "metadata": {},
   "outputs": [
    {
     "name": "stdout",
     "output_type": "stream",
     "text": [
      "-rw-r--r-- 1 jovyan users 76M May 24 22:29 data00.root\n",
      "-rw-r--r-- 1 jovyan users 76M May 24 22:29 data01.root\n",
      "-rw-r--r-- 1 jovyan users 76M May 24 22:29 data02.root\n",
      "-rw-r--r-- 1 jovyan users 76M May 24 22:29 data03.root\n",
      "-rw-r--r-- 1 jovyan users 76M May 24 22:29 data04.root\n",
      "-rw-r--r-- 1 jovyan users 76M May 24 22:30 data05.root\n",
      "-rw-r--r-- 1 jovyan users 76M May 24 22:30 data06.root\n",
      "-rw-r--r-- 1 jovyan users 76M May 24 22:30 data07.root\n",
      "-rw-r--r-- 1 jovyan users 76M May 24 22:30 data08.root\n",
      "-rw-r--r-- 1 jovyan users 76M May 24 22:30 data09.root\n",
      "-rw-r--r-- 1 jovyan users 76M May 24 22:30 data10.root\n",
      "-rw-r--r-- 1 jovyan users 76M May 24 22:30 data11.root\n",
      "-rw-r--r-- 1 jovyan users 76M May 24 22:30 data12.root\n",
      "-rw-r--r-- 1 jovyan users 76M May 24 22:30 data13.root\n",
      "-rw-r--r-- 1 jovyan users 76M May 24 22:30 data14.root\n",
      "-rw-r--r-- 1 jovyan users 76M May 24 22:30 data15.root\n",
      "-rw-r--r-- 1 jovyan users 76M May 24 22:31 data16.root\n",
      "-rw-r--r-- 1 jovyan users 76M May 24 22:31 data17.root\n",
      "-rw-r--r-- 1 jovyan users 76M May 24 22:31 data18.root\n",
      "-rw-r--r-- 1 jovyan users 76M May 24 22:31 data19.root\n"
     ]
    }
   ],
   "source": [
    "!ls -lah data*.root"
   ]
  },
  {
   "cell_type": "code",
   "execution_count": null,
   "id": "pressed-ecuador",
   "metadata": {},
   "outputs": [],
   "source": []
  }
 ],
 "metadata": {
  "kernelspec": {
   "display_name": "CDMS V04-05",
   "language": "python",
   "name": "cdms_v04-05"
  },
  "language_info": {
   "codemirror_mode": {
    "name": "ipython",
    "version": 3
   },
   "file_extension": ".py",
   "mimetype": "text/x-python",
   "name": "python",
   "nbconvert_exporter": "python",
   "pygments_lexer": "ipython3",
   "version": "3.7.6"
  }
 },
 "nbformat": 4,
 "nbformat_minor": 5
}
