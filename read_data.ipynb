{
 "cells": [
  {
   "cell_type": "code",
   "execution_count": 1,
   "id": "subsequent-score",
   "metadata": {},
   "outputs": [
    {
     "name": "stdout",
     "output_type": "stream",
     "text": [
      "Requirement already satisfied: pandas in /opt/conda/lib/python3.8/site-packages (1.4.2)\n",
      "Requirement already satisfied: numpy in /opt/conda/lib/python3.8/site-packages (1.22.4)\n",
      "Requirement already satisfied: dask in /opt/conda/lib/python3.8/site-packages (2022.5.1)\n",
      "Requirement already satisfied: black[jupyter] in /opt/conda/lib/python3.8/site-packages (22.3.0)\n",
      "Requirement already satisfied: uproot3 in /opt/conda/lib/python3.8/site-packages (3.14.4)\n",
      "Requirement already satisfied: pyarrow in /opt/conda/lib/python3.8/site-packages (8.0.0)\n",
      "Requirement already satisfied: astropy in /opt/conda/lib/python3.8/site-packages (5.1)\n",
      "Requirement already satisfied: PyYAML>=3.13 in /opt/conda/lib/python3.8/site-packages (from astropy) (5.4.1)\n",
      "Requirement already satisfied: pyerfa>=2.0 in /opt/conda/lib/python3.8/site-packages (from astropy) (2.0.0.1)\n",
      "Requirement already satisfied: packaging>=19.0 in /opt/conda/lib/python3.8/site-packages (from astropy) (20.9)\n",
      "Requirement already satisfied: pyparsing>=2.0.2 in /opt/conda/lib/python3.8/site-packages (from packaging>=19.0->astropy) (2.4.7)\n",
      "Requirement already satisfied: click>=8.0.0 in /opt/conda/lib/python3.8/site-packages (from black[jupyter]) (8.1.3)\n",
      "Requirement already satisfied: pathspec>=0.9.0 in /opt/conda/lib/python3.8/site-packages (from black[jupyter]) (0.9.0)\n",
      "Requirement already satisfied: typing-extensions>=3.10.0.0 in /opt/conda/lib/python3.8/site-packages (from black[jupyter]) (4.2.0)\n",
      "Requirement already satisfied: platformdirs>=2 in /opt/conda/lib/python3.8/site-packages (from black[jupyter]) (2.5.2)\n",
      "Requirement already satisfied: tomli>=1.1.0 in /opt/conda/lib/python3.8/site-packages (from black[jupyter]) (2.0.1)\n",
      "Requirement already satisfied: mypy-extensions>=0.4.3 in /opt/conda/lib/python3.8/site-packages (from black[jupyter]) (0.4.3)\n",
      "Requirement already satisfied: ipython>=7.8.0 in /opt/conda/lib/python3.8/site-packages (from black[jupyter]) (7.21.0)\n",
      "Requirement already satisfied: tokenize-rt>=3.2.0 in /opt/conda/lib/python3.8/site-packages (from black[jupyter]) (4.2.1)\n",
      "Requirement already satisfied: pickleshare in /opt/conda/lib/python3.8/site-packages (from ipython>=7.8.0->black[jupyter]) (0.7.5)\n",
      "Requirement already satisfied: traitlets>=4.2 in /opt/conda/lib/python3.8/site-packages (from ipython>=7.8.0->black[jupyter]) (5.0.5)\n",
      "Requirement already satisfied: setuptools>=18.5 in /opt/conda/lib/python3.8/site-packages (from ipython>=7.8.0->black[jupyter]) (49.6.0.post20210108)\n",
      "Requirement already satisfied: jedi>=0.16 in /opt/conda/lib/python3.8/site-packages (from ipython>=7.8.0->black[jupyter]) (0.18.0)\n",
      "Requirement already satisfied: pexpect>4.3 in /opt/conda/lib/python3.8/site-packages (from ipython>=7.8.0->black[jupyter]) (4.8.0)\n",
      "Requirement already satisfied: prompt-toolkit!=3.0.0,!=3.0.1,<3.1.0,>=2.0.0 in /opt/conda/lib/python3.8/site-packages (from ipython>=7.8.0->black[jupyter]) (3.0.17)\n",
      "Requirement already satisfied: pygments in /opt/conda/lib/python3.8/site-packages (from ipython>=7.8.0->black[jupyter]) (2.8.1)\n",
      "Requirement already satisfied: decorator in /opt/conda/lib/python3.8/site-packages (from ipython>=7.8.0->black[jupyter]) (4.4.2)\n",
      "Requirement already satisfied: backcall in /opt/conda/lib/python3.8/site-packages (from ipython>=7.8.0->black[jupyter]) (0.2.0)\n",
      "Requirement already satisfied: parso<0.9.0,>=0.8.0 in /opt/conda/lib/python3.8/site-packages (from jedi>=0.16->ipython>=7.8.0->black[jupyter]) (0.8.1)\n",
      "Requirement already satisfied: ptyprocess>=0.5 in /opt/conda/lib/python3.8/site-packages (from pexpect>4.3->ipython>=7.8.0->black[jupyter]) (0.7.0)\n",
      "Requirement already satisfied: wcwidth in /opt/conda/lib/python3.8/site-packages (from prompt-toolkit!=3.0.0,!=3.0.1,<3.1.0,>=2.0.0->ipython>=7.8.0->black[jupyter]) (0.2.5)\n",
      "Requirement already satisfied: ipython-genutils in /opt/conda/lib/python3.8/site-packages (from traitlets>=4.2->ipython>=7.8.0->black[jupyter]) (0.2.0)\n",
      "Requirement already satisfied: fsspec>=0.6.0 in /opt/conda/lib/python3.8/site-packages (from dask) (0.8.7)\n",
      "Requirement already satisfied: cloudpickle>=1.1.1 in /opt/conda/lib/python3.8/site-packages (from dask) (1.4.1)\n",
      "Requirement already satisfied: toolz>=0.8.2 in /opt/conda/lib/python3.8/site-packages (from dask) (0.11.1)\n",
      "Requirement already satisfied: partd>=0.3.10 in /opt/conda/lib/python3.8/site-packages (from dask) (1.1.0)\n",
      "Requirement already satisfied: locket in /opt/conda/lib/python3.8/site-packages (from partd>=0.3.10->dask) (0.2.0)\n",
      "Requirement already satisfied: pytz>=2020.1 in /opt/conda/lib/python3.8/site-packages (from pandas) (2021.1)\n",
      "Requirement already satisfied: python-dateutil>=2.8.1 in /opt/conda/lib/python3.8/site-packages (from pandas) (2.8.1)\n",
      "Requirement already satisfied: six>=1.5 in /opt/conda/lib/python3.8/site-packages (from python-dateutil>=2.8.1->pandas) (1.15.0)\n",
      "Requirement already satisfied: cachetools in /opt/conda/lib/python3.8/site-packages (from uproot3) (4.1.1)\n",
      "Requirement already satisfied: awkward0 in /opt/conda/lib/python3.8/site-packages (from uproot3) (0.15.5)\n",
      "Requirement already satisfied: uproot3-methods in /opt/conda/lib/python3.8/site-packages (from uproot3) (0.10.1)\n"
     ]
    }
   ],
   "source": [
    "!pip install --upgrade pandas numpy dask black[jupyter] uproot3 pyarrow astropy"
   ]
  },
  {
   "cell_type": "code",
   "execution_count": 2,
   "id": "intelligent-lying",
   "metadata": {},
   "outputs": [],
   "source": [
    "import uproot3\n",
    "\n",
    "import dask.dataframe as dd\n",
    "import pandas as pd\n",
    "import numpy as np\n",
    "from astropy import units as u\n",
    "import matplotlib.pyplot as plt\n",
    "%matplotlib inline"
   ]
  },
  {
   "cell_type": "code",
   "execution_count": 3,
   "id": "presidential-aspect",
   "metadata": {},
   "outputs": [
    {
     "name": "stdout",
     "output_type": "stream",
     "text": [
      "-rw-rw-r-- 1 jovyan users 76M May 24 22:29 data00.root\n",
      "-rw-rw-r-- 1 jovyan users 76M May 24 22:29 data01.root\n",
      "-rw-rw-r-- 1 jovyan users 76M May 24 22:29 data02.root\n",
      "-rw-rw-r-- 1 jovyan users 76M May 24 22:29 data03.root\n",
      "-rw-rw-r-- 1 jovyan users 76M May 24 22:29 data04.root\n",
      "-rw-rw-r-- 1 jovyan users 76M May 24 22:30 data05.root\n",
      "-rw-rw-r-- 1 jovyan users 76M May 24 22:30 data06.root\n",
      "-rw-rw-r-- 1 jovyan users 76M May 24 22:30 data07.root\n",
      "-rw-rw-r-- 1 jovyan users 76M May 24 22:30 data08.root\n",
      "-rw-rw-r-- 1 jovyan users 76M May 24 22:30 data09.root\n",
      "-rw-rw-r-- 1 jovyan users 76M May 24 22:30 data10.root\n",
      "-rw-rw-r-- 1 jovyan users 76M May 24 22:30 data11.root\n",
      "-rw-rw-r-- 1 jovyan users 76M May 24 22:30 data12.root\n",
      "-rw-rw-r-- 1 jovyan users 76M May 24 22:30 data13.root\n",
      "-rw-rw-r-- 1 jovyan users 76M May 24 22:30 data14.root\n",
      "-rw-rw-r-- 1 jovyan users 76M May 24 22:30 data15.root\n",
      "-rw-rw-r-- 1 jovyan users 76M May 24 22:31 data16.root\n",
      "-rw-rw-r-- 1 jovyan users 76M May 24 22:31 data17.root\n",
      "-rw-rw-r-- 1 jovyan users 76M May 24 22:31 data18.root\n",
      "-rw-rw-r-- 1 jovyan users 76M May 24 22:31 data19.root\n"
     ]
    }
   ],
   "source": [
    "!ls -lah *.root"
   ]
  },
  {
   "cell_type": "code",
   "execution_count": 4,
   "id": "precise-recorder",
   "metadata": {},
   "outputs": [],
   "source": [
    "import scat"
   ]
  },
  {
   "cell_type": "code",
   "execution_count": 5,
   "id": "refined-tradition",
   "metadata": {},
   "outputs": [],
   "source": [
    "input_files = !ls data*.root"
   ]
  },
  {
   "cell_type": "code",
   "execution_count": 6,
   "id": "classical-graham",
   "metadata": {},
   "outputs": [],
   "source": [
    "dask_dataframe = dd.from_map(scat.read_root_file, input_files)"
   ]
  },
  {
   "cell_type": "code",
   "execution_count": 7,
   "id": "existing-sheffield",
   "metadata": {},
   "outputs": [],
   "source": [
    "#scat.dask_memory_usage_GB(dask_dataframe)"
   ]
  },
  {
   "cell_type": "code",
   "execution_count": 8,
   "id": "broken-daughter",
   "metadata": {},
   "outputs": [],
   "source": [
    "#centroids, histogram = scat.dask_histogram(dask_dataframe, \"value1\", bins=20, bins_range=[-5, 5])"
   ]
  },
  {
   "cell_type": "code",
   "execution_count": 9,
   "id": "fifty-thomas",
   "metadata": {},
   "outputs": [],
   "source": [
    "#plt.bar(centroids, histogram)\n",
    "#plt.grid();"
   ]
  },
  {
   "cell_type": "code",
   "execution_count": 10,
   "id": "identical-image",
   "metadata": {},
   "outputs": [],
   "source": [
    "class ComputeColumn:\n",
    "    def __init__(self, column_1, column_2):\n",
    "        self.column_1 = column_1\n",
    "        self.column_2 = column_2\n",
    "    def __call__(self, df):\n",
    "        df = df.assign(computed_col=(df[self.column_1] + df[self.column_2]))**2\n",
    "        return df"
   ]
  },
  {
   "cell_type": "code",
   "execution_count": 11,
   "id": "interracial-maple",
   "metadata": {},
   "outputs": [],
   "source": [
    "func = ComputeColumn(\"value1\", \"value2\")"
   ]
  },
  {
   "cell_type": "code",
   "execution_count": 12,
   "id": "sudden-award",
   "metadata": {},
   "outputs": [],
   "source": [
    "dask_dataframe_added_column = dask_dataframe.map_partitions(func)"
   ]
  },
  {
   "cell_type": "code",
   "execution_count": 13,
   "id": "fixed-enzyme",
   "metadata": {},
   "outputs": [],
   "source": [
    "class QueryFilter:\n",
    "    def __init__(self, query):\n",
    "        self.query = query\n",
    "    def __call__(self, df):\n",
    "        return df.query(self.query)"
   ]
  },
  {
   "cell_type": "code",
   "execution_count": 14,
   "id": "packed-mobile",
   "metadata": {},
   "outputs": [],
   "source": [
    "filt = QueryFilter(\"computed_col < 1\")"
   ]
  },
  {
   "cell_type": "code",
   "execution_count": 15,
   "id": "western-thing",
   "metadata": {},
   "outputs": [],
   "source": [
    "dask_dataframe_added_column_filtered= dask_dataframe_added_column.map_partitions(filt)"
   ]
  },
  {
   "cell_type": "code",
   "execution_count": 16,
   "id": "presidential-audit",
   "metadata": {},
   "outputs": [],
   "source": [
    "output_pandas_dataframe= dask_dataframe_added_column_filtered.compute()"
   ]
  },
  {
   "cell_type": "code",
   "execution_count": 17,
   "id": "north-mount",
   "metadata": {},
   "outputs": [
    {
     "data": {
      "text/html": [
       "<div>\n",
       "<style scoped>\n",
       "    .dataframe tbody tr th:only-of-type {\n",
       "        vertical-align: middle;\n",
       "    }\n",
       "\n",
       "    .dataframe tbody tr th {\n",
       "        vertical-align: top;\n",
       "    }\n",
       "\n",
       "    .dataframe thead th {\n",
       "        text-align: right;\n",
       "    }\n",
       "</style>\n",
       "<table border=\"1\" class=\"dataframe\">\n",
       "  <thead>\n",
       "    <tr style=\"text-align: right;\">\n",
       "      <th></th>\n",
       "      <th>seriesNumber</th>\n",
       "      <th>eventNumber</th>\n",
       "      <th>detNumber</th>\n",
       "      <th>value1</th>\n",
       "      <th>value2</th>\n",
       "      <th>computed_col</th>\n",
       "    </tr>\n",
       "  </thead>\n",
       "  <tbody>\n",
       "    <tr>\n",
       "      <th>0</th>\n",
       "      <td>0</td>\n",
       "      <td>0</td>\n",
       "      <td>9</td>\n",
       "      <td>0.025411</td>\n",
       "      <td>0.161719</td>\n",
       "      <td>0.315340</td>\n",
       "    </tr>\n",
       "    <tr>\n",
       "      <th>1</th>\n",
       "      <td>0</td>\n",
       "      <td>0</td>\n",
       "      <td>4</td>\n",
       "      <td>1.186726</td>\n",
       "      <td>0.139076</td>\n",
       "      <td>0.513287</td>\n",
       "    </tr>\n",
       "    <tr>\n",
       "      <th>2</th>\n",
       "      <td>0</td>\n",
       "      <td>0</td>\n",
       "      <td>1</td>\n",
       "      <td>0.140486</td>\n",
       "      <td>1.308061</td>\n",
       "      <td>0.591192</td>\n",
       "    </tr>\n",
       "    <tr>\n",
       "      <th>3</th>\n",
       "      <td>0</td>\n",
       "      <td>0</td>\n",
       "      <td>1</td>\n",
       "      <td>0.319691</td>\n",
       "      <td>1.230156</td>\n",
       "      <td>0.295623</td>\n",
       "    </tr>\n",
       "    <tr>\n",
       "      <th>4</th>\n",
       "      <td>0</td>\n",
       "      <td>0</td>\n",
       "      <td>9</td>\n",
       "      <td>0.250476</td>\n",
       "      <td>0.729173</td>\n",
       "      <td>0.124920</td>\n",
       "    </tr>\n",
       "  </tbody>\n",
       "</table>\n",
       "</div>"
      ],
      "text/plain": [
       "   seriesNumber  eventNumber  detNumber    value1    value2  computed_col\n",
       "0             0            0          9  0.025411  0.161719      0.315340\n",
       "1             0            0          4  1.186726  0.139076      0.513287\n",
       "2             0            0          1  0.140486  1.308061      0.591192\n",
       "3             0            0          1  0.319691  1.230156      0.295623\n",
       "4             0            0          9  0.250476  0.729173      0.124920"
      ]
     },
     "execution_count": 17,
     "metadata": {},
     "output_type": "execute_result"
    }
   ],
   "source": [
    "output_pandas_dataframe.head()"
   ]
  },
  {
   "cell_type": "code",
   "execution_count": 18,
   "id": "political-fourth",
   "metadata": {},
   "outputs": [
    {
     "data": {
      "text/plain": [
       "52.045638"
      ]
     },
     "execution_count": 18,
     "metadata": {},
     "output_type": "execute_result"
    }
   ],
   "source": [
    "len(output_pandas_dataframe) / 1e6"
   ]
  },
  {
   "cell_type": "code",
   "execution_count": null,
   "id": "former-wisconsin",
   "metadata": {},
   "outputs": [],
   "source": []
  }
 ],
 "metadata": {
  "kernelspec": {
   "display_name": "Python 3",
   "language": "python",
   "name": "python3"
  },
  "language_info": {
   "codemirror_mode": {
    "name": "ipython",
    "version": 3
   },
   "file_extension": ".py",
   "mimetype": "text/x-python",
   "name": "python",
   "nbconvert_exporter": "python",
   "pygments_lexer": "ipython3",
   "version": "3.8.8"
  }
 },
 "nbformat": 4,
 "nbformat_minor": 5
}
